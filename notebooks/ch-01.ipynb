{
 "cells": [
  {
   "cell_type": "markdown",
   "metadata": {},
   "source": [
    "## Chapter 1: Genetic Evaluation with Different Sources of Records\n",
    "We want to show the results with only 2 decimals.  Package `Printf` and the line below will do the job.\n",
    "\n",
    "The cells in a notebook are of two types, `MarkDown` and `(Julia) codes`. You can follow it by reading the `MarkDown` cells and type the `codes` in a Julia REPL.  You can also just paste the codes into a REPL, which is **not** recommended.\n",
    "\n",
    "The `Statistics` package is to provide function `mean`, `var`, and `cov` here."
   ]
  },
  {
   "cell_type": "code",
   "execution_count": 2,
   "metadata": {},
   "outputs": [],
   "source": [
    "using Statistics, Printf\n",
    "Base.show(io::IO, f::Float64) = @printf(io, \"%.2f\", f)"
   ]
  },
  {
   "cell_type": "markdown",
   "metadata": {},
   "source": [
    "We then simulate a population with 100 ID with model\n",
    "$$p_i = \\mu + a_i + e_i$$\n",
    "\n",
    "where\n",
    "\n",
    "$$a_i\\stackrel{iid}\\sim N(0, \\sigma_a^2)$$\n",
    "$$e_i\\stackrel{iid}\\sim N(0, \\sigma_e^2)$$"
   ]
  },
  {
   "cell_type": "code",
   "execution_count": 4,
   "metadata": {},
   "outputs": [
    {
     "name": "stdout",
     "output_type": "stream",
     "text": [
      "[mean(a), mean(p), var(a), var(p)] = [0.01, 0.12, 1.00, 2.03]\n"
     ]
    }
   ],
   "source": [
    "n, σₐ, σₑ = 100, 1., 1. # Number of ID, standard error of a and e.\n",
    "a = randn(n) .* σₐ      # TBV, now of N(0, 1)\n",
    "p = a + randn(n) .* σₑ  # Phenotypes, now of N(0, 2)\n",
    "@show [mean(a), mean(p), var(a), var(p)];"
   ]
  },
  {
   "cell_type": "markdown",
   "metadata": {},
   "source": [
    "## 💡\n",
    "- to get $\\sigma_a$, type `\\sigma<tab>\\_a<tab>`\n",
    "- `randn(n)` is to generation a column of $n$ random numbers of `N(0, 1)`\n",
    "- `.*` is broadcasting, that is to mupltiply $\\sigma_a$ to every element of `randn(n)` by $\\sigma_a$.\n",
    "- `;` at the end is to suppress the last returns.  You can try without it, to see the difference.\n",
    "\n",
    "The realized $h^2$ is then:"
   ]
  },
  {
   "cell_type": "code",
   "execution_count": 8,
   "metadata": {},
   "outputs": [
    {
     "name": "stdout",
     "output_type": "stream",
     "text": [
      "h² = [0.49, 0.45, 0.45]\n",
      "sqrt.(h²) = [0.70, 0.67, 0.67]\n"
     ]
    }
   ],
   "source": [
    "# many ways of h²\n",
    "h²₁ = var(a) / var(p)  # h\\^2<tab>\\_1<tab> :heritability by definition\n",
    "h²₂ = cov(a, p) / var(p)\n",
    "_, h²₃ = [ones(n) p] \\ a\n",
    "h² = [h²₁, h²₂, h²₃]\n",
    "@show h²\n",
    "@show sqrt.(h²);    # accuracies"
   ]
  },
  {
   "cell_type": "markdown",
   "metadata": {},
   "source": [
    "## 💡\n",
    "- `[ones(n) p]`, julia matrix is column majored. this is to make a 2-column matrix\n",
    "- `\\` solve, by least squares, the leading `_` here is to discard the first return.\n",
    "  - e.g., _, a = (1, 2) $\\to$ a = 2\n",
    "\n",
    "## Example 1.1\n",
    "A heifer is 320 kg, herd mean 250 kg, $h^2$ is 0.45.\n",
    "- What is her breeding value and its accuracy?"
   ]
  },
  {
   "cell_type": "code",
   "execution_count": 13,
   "metadata": {},
   "outputs": [
    {
     "name": "stdout",
     "output_type": "stream",
     "text": [
      "a_hat = 31.50\n",
      "r_ay = 0.67\n"
     ]
    }
   ],
   "source": [
    "a_hat = 0.45(320-250) \n",
    "r_ay = √0.45\n",
    "@show a_hat r_ay;"
   ]
  },
  {
   "cell_type": "code",
   "execution_count": null,
   "metadata": {},
   "outputs": [],
   "source": []
  }
 ],
 "metadata": {
  "kernelspec": {
   "display_name": "Julia 1.8.2",
   "language": "julia",
   "name": "julia-1.8"
  },
  "language_info": {
   "file_extension": ".jl",
   "mimetype": "application/julia",
   "name": "julia",
   "version": "1.8.2"
  }
 },
 "nbformat": 4,
 "nbformat_minor": 4
}
